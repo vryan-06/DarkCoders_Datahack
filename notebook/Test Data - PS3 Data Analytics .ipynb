{
 "cells": [
  {
   "cell_type": "code",
   "execution_count": 39,
   "id": "982b115e",
   "metadata": {},
   "outputs": [],
   "source": [
    "import pandas as pd\n",
    "import numpy as np\n",
    "import matplotlib.pyplot as plt\n",
    "import seaborn as sns\n",
    "import pickle\n",
    "from sklearn.preprocessing import StandardScaler"
   ]
  },
  {
   "cell_type": "code",
   "execution_count": 3,
   "id": "3a42d5ac",
   "metadata": {},
   "outputs": [],
   "source": [
    "df = pd.read_csv(\"./test_data.csv\")"
   ]
  },
  {
   "cell_type": "code",
   "execution_count": 4,
   "id": "a6e6c96e",
   "metadata": {
    "scrolled": true
   },
   "outputs": [
    {
     "data": {
      "text/html": [
       "<div>\n",
       "<style scoped>\n",
       "    .dataframe tbody tr th:only-of-type {\n",
       "        vertical-align: middle;\n",
       "    }\n",
       "\n",
       "    .dataframe tbody tr th {\n",
       "        vertical-align: top;\n",
       "    }\n",
       "\n",
       "    .dataframe thead th {\n",
       "        text-align: right;\n",
       "    }\n",
       "</style>\n",
       "<table border=\"1\" class=\"dataframe\">\n",
       "  <thead>\n",
       "    <tr style=\"text-align: right;\">\n",
       "      <th></th>\n",
       "      <th>Name</th>\n",
       "      <th>Location</th>\n",
       "      <th>Year</th>\n",
       "      <th>Kilometers_Driven</th>\n",
       "      <th>Fuel_Type</th>\n",
       "      <th>Transmission</th>\n",
       "      <th>Owner_Type</th>\n",
       "      <th>Mileage</th>\n",
       "      <th>Engine</th>\n",
       "      <th>Power</th>\n",
       "      <th>Seats</th>\n",
       "      <th>New_Price</th>\n",
       "    </tr>\n",
       "  </thead>\n",
       "  <tbody>\n",
       "    <tr>\n",
       "      <th>0</th>\n",
       "      <td>Mahindra XUV500 W6 2WD</td>\n",
       "      <td>Kochi</td>\n",
       "      <td>2017</td>\n",
       "      <td>41290</td>\n",
       "      <td>Diesel</td>\n",
       "      <td>Manual</td>\n",
       "      <td>Second</td>\n",
       "      <td>16.0 kmpl</td>\n",
       "      <td>2179 CC</td>\n",
       "      <td>140 bhp</td>\n",
       "      <td>7.0</td>\n",
       "      <td>NaN</td>\n",
       "    </tr>\n",
       "    <tr>\n",
       "      <th>1</th>\n",
       "      <td>BMW 5 Series 520d Luxury Line</td>\n",
       "      <td>Delhi</td>\n",
       "      <td>2013</td>\n",
       "      <td>65000</td>\n",
       "      <td>Diesel</td>\n",
       "      <td>Automatic</td>\n",
       "      <td>First</td>\n",
       "      <td>22.48 kmpl</td>\n",
       "      <td>1995 CC</td>\n",
       "      <td>190 bhp</td>\n",
       "      <td>5.0</td>\n",
       "      <td>67.87 Lakh</td>\n",
       "    </tr>\n",
       "    <tr>\n",
       "      <th>2</th>\n",
       "      <td>Toyota Corolla Altis 1.8 G</td>\n",
       "      <td>Bangalore</td>\n",
       "      <td>2016</td>\n",
       "      <td>16471</td>\n",
       "      <td>Petrol</td>\n",
       "      <td>Manual</td>\n",
       "      <td>Second</td>\n",
       "      <td>14.28 kmpl</td>\n",
       "      <td>1798 CC</td>\n",
       "      <td>138.03 bhp</td>\n",
       "      <td>5.0</td>\n",
       "      <td>20.48 Lakh</td>\n",
       "    </tr>\n",
       "    <tr>\n",
       "      <th>3</th>\n",
       "      <td>Hyundai i20 Asta 1.4 CRDi</td>\n",
       "      <td>Pune</td>\n",
       "      <td>2015</td>\n",
       "      <td>54339</td>\n",
       "      <td>Diesel</td>\n",
       "      <td>Manual</td>\n",
       "      <td>Second</td>\n",
       "      <td>22.54 kmpl</td>\n",
       "      <td>1396 CC</td>\n",
       "      <td>88.73 bhp</td>\n",
       "      <td>5.0</td>\n",
       "      <td>NaN</td>\n",
       "    </tr>\n",
       "    <tr>\n",
       "      <th>4</th>\n",
       "      <td>Mahindra KUV 100 mFALCON G80 K2</td>\n",
       "      <td>Hyderabad</td>\n",
       "      <td>2016</td>\n",
       "      <td>24025</td>\n",
       "      <td>Petrol</td>\n",
       "      <td>Manual</td>\n",
       "      <td>First</td>\n",
       "      <td>18.15 kmpl</td>\n",
       "      <td>1198 CC</td>\n",
       "      <td>82 bhp</td>\n",
       "      <td>6.0</td>\n",
       "      <td>NaN</td>\n",
       "    </tr>\n",
       "  </tbody>\n",
       "</table>\n",
       "</div>"
      ],
      "text/plain": [
       "                              Name   Location  Year  Kilometers_Driven  \\\n",
       "0           Mahindra XUV500 W6 2WD      Kochi  2017              41290   \n",
       "1    BMW 5 Series 520d Luxury Line      Delhi  2013              65000   \n",
       "2       Toyota Corolla Altis 1.8 G  Bangalore  2016              16471   \n",
       "3        Hyundai i20 Asta 1.4 CRDi       Pune  2015              54339   \n",
       "4  Mahindra KUV 100 mFALCON G80 K2  Hyderabad  2016              24025   \n",
       "\n",
       "  Fuel_Type Transmission Owner_Type     Mileage   Engine       Power  Seats  \\\n",
       "0    Diesel       Manual     Second   16.0 kmpl  2179 CC     140 bhp    7.0   \n",
       "1    Diesel    Automatic      First  22.48 kmpl  1995 CC     190 bhp    5.0   \n",
       "2    Petrol       Manual     Second  14.28 kmpl  1798 CC  138.03 bhp    5.0   \n",
       "3    Diesel       Manual     Second  22.54 kmpl  1396 CC   88.73 bhp    5.0   \n",
       "4    Petrol       Manual      First  18.15 kmpl  1198 CC      82 bhp    6.0   \n",
       "\n",
       "    New_Price  \n",
       "0         NaN  \n",
       "1  67.87 Lakh  \n",
       "2  20.48 Lakh  \n",
       "3         NaN  \n",
       "4         NaN  "
      ]
     },
     "execution_count": 4,
     "metadata": {},
     "output_type": "execute_result"
    }
   ],
   "source": [
    "df.head()"
   ]
  },
  {
   "cell_type": "code",
   "execution_count": 5,
   "id": "ba484cfe",
   "metadata": {},
   "outputs": [
    {
     "data": {
      "text/plain": [
       "Name                  object\n",
       "Location              object\n",
       "Year                   int64\n",
       "Kilometers_Driven      int64\n",
       "Fuel_Type             object\n",
       "Transmission          object\n",
       "Owner_Type            object\n",
       "Mileage               object\n",
       "Engine                object\n",
       "Power                 object\n",
       "Seats                float64\n",
       "New_Price             object\n",
       "dtype: object"
      ]
     },
     "execution_count": 5,
     "metadata": {},
     "output_type": "execute_result"
    }
   ],
   "source": [
    "df.dtypes"
   ]
  },
  {
   "cell_type": "code",
   "execution_count": 6,
   "id": "ce4b2274",
   "metadata": {},
   "outputs": [
    {
     "data": {
      "text/plain": [
       "Name                    0\n",
       "Location                0\n",
       "Year                    0\n",
       "Kilometers_Driven       0\n",
       "Fuel_Type               0\n",
       "Transmission            0\n",
       "Owner_Type              0\n",
       "Mileage                 2\n",
       "Engine                 14\n",
       "Power                  14\n",
       "Seats                  17\n",
       "New_Price            2177\n",
       "dtype: int64"
      ]
     },
     "execution_count": 6,
     "metadata": {},
     "output_type": "execute_result"
    }
   ],
   "source": [
    "df.isna().sum()"
   ]
  },
  {
   "cell_type": "code",
   "execution_count": 7,
   "id": "d971acab",
   "metadata": {},
   "outputs": [],
   "source": [
    "df=df.dropna(subset=[\"Mileage\", \"Engine\", \"Power\", \"Seats\"])"
   ]
  },
  {
   "cell_type": "code",
   "execution_count": 8,
   "id": "ea2ce72c",
   "metadata": {},
   "outputs": [
    {
     "data": {
      "text/plain": [
       "Index(['Name', 'Location', 'Year', 'Kilometers_Driven', 'Fuel_Type',\n",
       "       'Transmission', 'Owner_Type', 'Mileage', 'Engine', 'Power', 'Seats',\n",
       "       'New_Price'],\n",
       "      dtype='object')"
      ]
     },
     "execution_count": 8,
     "metadata": {},
     "output_type": "execute_result"
    }
   ],
   "source": [
    "df.columns"
   ]
  },
  {
   "cell_type": "code",
   "execution_count": 9,
   "id": "be31f1dc",
   "metadata": {},
   "outputs": [],
   "source": [
    "df = df.drop(\"New_Price\", axis='columns')"
   ]
  },
  {
   "cell_type": "code",
   "execution_count": 10,
   "id": "7dc2d8c2",
   "metadata": {},
   "outputs": [
    {
     "data": {
      "text/plain": [
       "(2501, 11)"
      ]
     },
     "execution_count": 10,
     "metadata": {},
     "output_type": "execute_result"
    }
   ],
   "source": [
    "df.shape"
   ]
  },
  {
   "cell_type": "code",
   "execution_count": 11,
   "id": "26478612",
   "metadata": {},
   "outputs": [
    {
     "data": {
      "text/plain": [
       "0        16.0 kmpl\n",
       "1       22.48 kmpl\n",
       "2       14.28 kmpl\n",
       "3       22.54 kmpl\n",
       "4       18.15 kmpl\n",
       "           ...    \n",
       "2515     28.4 kmpl\n",
       "2516     24.4 kmpl\n",
       "2517     14.0 kmpl\n",
       "2518     18.9 kmpl\n",
       "2519    25.44 kmpl\n",
       "Name: Mileage, Length: 2501, dtype: object"
      ]
     },
     "execution_count": 11,
     "metadata": {},
     "output_type": "execute_result"
    }
   ],
   "source": [
    "df[\"Mileage\"]"
   ]
  },
  {
   "cell_type": "code",
   "execution_count": 12,
   "id": "8a49b896",
   "metadata": {},
   "outputs": [
    {
     "name": "stdout",
     "output_type": "stream",
     "text": [
      "The no of rows with km/kg:  24\n",
      "The no of rows with kmpl:  2477\n"
     ]
    }
   ],
   "source": [
    "count_kmkg = 0\n",
    "count_kmpl = 0\n",
    "for i in df[\"Mileage\"]:\n",
    "    if \"km/kg\" in str(i):\n",
    "        count_kmkg += 1\n",
    "    elif \"kmpl\" in str(i):\n",
    "        count_kmpl += 1\n",
    "print('The no of rows with km/kg: ', count_kmkg)\n",
    "print('The no of rows with kmpl: ', count_kmpl)"
   ]
  },
  {
   "cell_type": "code",
   "execution_count": 13,
   "id": "02841536",
   "metadata": {},
   "outputs": [],
   "source": [
    "fuel_density = {'CNG': 0.128, 'Diesel': 0.832, 'Petrol': 0.745, 'LPG': 0.579}\n",
    "\n",
    "Transformed_Mileage = []\n",
    "for i, fuel_type in zip(df['Mileage'], df['Fuel_Type']):\n",
    "    if \"kmpl\" in str(i):\n",
    "        i = i[:-5]\n",
    "        i = float(i) / fuel_density[fuel_type] if fuel_type in fuel_density else float(i)\n",
    "    elif str(i).endswith('km/kg'):\n",
    "        i = i[:-6]\n",
    "    Transformed_Mileage.append(float(i))"
   ]
  },
  {
   "cell_type": "code",
   "execution_count": 14,
   "id": "b2e2a95a",
   "metadata": {},
   "outputs": [],
   "source": [
    "df[\"Mileage\"] = Transformed_Mileage"
   ]
  },
  {
   "cell_type": "code",
   "execution_count": 15,
   "id": "4aff6ba4",
   "metadata": {},
   "outputs": [],
   "source": [
    "df['Engine'] = df['Engine'].str.replace(' CC', '')       \n",
    "df['Engine'] = df['Engine'].astype('float64')"
   ]
  },
  {
   "cell_type": "code",
   "execution_count": 16,
   "id": "dd0dcc8a",
   "metadata": {},
   "outputs": [],
   "source": [
    "df['Power'] = df['Power'].str.replace(' bhp', '')    "
   ]
  },
  {
   "cell_type": "code",
   "execution_count": 17,
   "id": "b897dda2",
   "metadata": {},
   "outputs": [],
   "source": [
    "df['Power'] = df['Power'].replace('null', np.nan)\n",
    "df['Power'] = df['Power'].astype('float64')"
   ]
  },
  {
   "cell_type": "code",
   "execution_count": 18,
   "id": "d0d1c30d",
   "metadata": {},
   "outputs": [
    {
     "data": {
      "text/plain": [
       "Name                  0\n",
       "Location              0\n",
       "Year                  0\n",
       "Kilometers_Driven     0\n",
       "Fuel_Type             0\n",
       "Transmission          0\n",
       "Owner_Type            0\n",
       "Mileage               0\n",
       "Engine                0\n",
       "Power                39\n",
       "Seats                 0\n",
       "dtype: int64"
      ]
     },
     "execution_count": 18,
     "metadata": {},
     "output_type": "execute_result"
    }
   ],
   "source": [
    "df.isnull().sum()"
   ]
  },
  {
   "cell_type": "code",
   "execution_count": 19,
   "id": "0f4b1ddc",
   "metadata": {},
   "outputs": [],
   "source": [
    "df=df.dropna(subset=[\"Power\"])"
   ]
  },
  {
   "cell_type": "code",
   "execution_count": 20,
   "id": "2dc5aeac",
   "metadata": {},
   "outputs": [
    {
     "data": {
      "text/html": [
       "<div>\n",
       "<style scoped>\n",
       "    .dataframe tbody tr th:only-of-type {\n",
       "        vertical-align: middle;\n",
       "    }\n",
       "\n",
       "    .dataframe tbody tr th {\n",
       "        vertical-align: top;\n",
       "    }\n",
       "\n",
       "    .dataframe thead th {\n",
       "        text-align: right;\n",
       "    }\n",
       "</style>\n",
       "<table border=\"1\" class=\"dataframe\">\n",
       "  <thead>\n",
       "    <tr style=\"text-align: right;\">\n",
       "      <th></th>\n",
       "      <th>Name</th>\n",
       "      <th>Location</th>\n",
       "      <th>Year</th>\n",
       "      <th>Kilometers_Driven</th>\n",
       "      <th>Fuel_Type</th>\n",
       "      <th>Transmission</th>\n",
       "      <th>Owner_Type</th>\n",
       "      <th>Mileage</th>\n",
       "      <th>Engine</th>\n",
       "      <th>Power</th>\n",
       "      <th>Seats</th>\n",
       "    </tr>\n",
       "  </thead>\n",
       "  <tbody>\n",
       "    <tr>\n",
       "      <th>0</th>\n",
       "      <td>Mahindra XUV500 W6 2WD</td>\n",
       "      <td>Kochi</td>\n",
       "      <td>2017</td>\n",
       "      <td>41290</td>\n",
       "      <td>Diesel</td>\n",
       "      <td>Manual</td>\n",
       "      <td>Second</td>\n",
       "      <td>19.230769</td>\n",
       "      <td>2179.0</td>\n",
       "      <td>140.00</td>\n",
       "      <td>7.0</td>\n",
       "    </tr>\n",
       "    <tr>\n",
       "      <th>1</th>\n",
       "      <td>BMW 5 Series 520d Luxury Line</td>\n",
       "      <td>Delhi</td>\n",
       "      <td>2013</td>\n",
       "      <td>65000</td>\n",
       "      <td>Diesel</td>\n",
       "      <td>Automatic</td>\n",
       "      <td>First</td>\n",
       "      <td>27.019231</td>\n",
       "      <td>1995.0</td>\n",
       "      <td>190.00</td>\n",
       "      <td>5.0</td>\n",
       "    </tr>\n",
       "    <tr>\n",
       "      <th>2</th>\n",
       "      <td>Toyota Corolla Altis 1.8 G</td>\n",
       "      <td>Bangalore</td>\n",
       "      <td>2016</td>\n",
       "      <td>16471</td>\n",
       "      <td>Petrol</td>\n",
       "      <td>Manual</td>\n",
       "      <td>Second</td>\n",
       "      <td>19.167785</td>\n",
       "      <td>1798.0</td>\n",
       "      <td>138.03</td>\n",
       "      <td>5.0</td>\n",
       "    </tr>\n",
       "    <tr>\n",
       "      <th>3</th>\n",
       "      <td>Hyundai i20 Asta 1.4 CRDi</td>\n",
       "      <td>Pune</td>\n",
       "      <td>2015</td>\n",
       "      <td>54339</td>\n",
       "      <td>Diesel</td>\n",
       "      <td>Manual</td>\n",
       "      <td>Second</td>\n",
       "      <td>27.091346</td>\n",
       "      <td>1396.0</td>\n",
       "      <td>88.73</td>\n",
       "      <td>5.0</td>\n",
       "    </tr>\n",
       "    <tr>\n",
       "      <th>4</th>\n",
       "      <td>Mahindra KUV 100 mFALCON G80 K2</td>\n",
       "      <td>Hyderabad</td>\n",
       "      <td>2016</td>\n",
       "      <td>24025</td>\n",
       "      <td>Petrol</td>\n",
       "      <td>Manual</td>\n",
       "      <td>First</td>\n",
       "      <td>24.362416</td>\n",
       "      <td>1198.0</td>\n",
       "      <td>82.00</td>\n",
       "      <td>6.0</td>\n",
       "    </tr>\n",
       "  </tbody>\n",
       "</table>\n",
       "</div>"
      ],
      "text/plain": [
       "                              Name   Location  Year  Kilometers_Driven  \\\n",
       "0           Mahindra XUV500 W6 2WD      Kochi  2017              41290   \n",
       "1    BMW 5 Series 520d Luxury Line      Delhi  2013              65000   \n",
       "2       Toyota Corolla Altis 1.8 G  Bangalore  2016              16471   \n",
       "3        Hyundai i20 Asta 1.4 CRDi       Pune  2015              54339   \n",
       "4  Mahindra KUV 100 mFALCON G80 K2  Hyderabad  2016              24025   \n",
       "\n",
       "  Fuel_Type Transmission Owner_Type    Mileage  Engine   Power  Seats  \n",
       "0    Diesel       Manual     Second  19.230769  2179.0  140.00    7.0  \n",
       "1    Diesel    Automatic      First  27.019231  1995.0  190.00    5.0  \n",
       "2    Petrol       Manual     Second  19.167785  1798.0  138.03    5.0  \n",
       "3    Diesel       Manual     Second  27.091346  1396.0   88.73    5.0  \n",
       "4    Petrol       Manual      First  24.362416  1198.0   82.00    6.0  "
      ]
     },
     "execution_count": 20,
     "metadata": {},
     "output_type": "execute_result"
    }
   ],
   "source": [
    "df.head()"
   ]
  },
  {
   "cell_type": "code",
   "execution_count": 21,
   "id": "a7abf9ce",
   "metadata": {},
   "outputs": [],
   "source": [
    "df = df.drop(\"Name\", axis='columns')"
   ]
  },
  {
   "cell_type": "code",
   "execution_count": 23,
   "id": "447479c9",
   "metadata": {},
   "outputs": [],
   "source": [
    "Location = df[[\"Location\"]]\n",
    "Location = pd.get_dummies(Location) #drop first is false"
   ]
  },
  {
   "cell_type": "code",
   "execution_count": 25,
   "id": "a0e2bf55",
   "metadata": {},
   "outputs": [],
   "source": [
    "Fuel_Type = df[[\"Fuel_Type\"]]\n",
    "Fuel_Type = pd.get_dummies(Fuel_Type) #drop first is false"
   ]
  },
  {
   "cell_type": "code",
   "execution_count": 26,
   "id": "29141a0d",
   "metadata": {},
   "outputs": [],
   "source": [
    "Transmission = df[[\"Transmission\"]]\n",
    "Transmission = pd.get_dummies(Transmission,drop_first=True)"
   ]
  },
  {
   "cell_type": "code",
   "execution_count": 27,
   "id": "ebee02ae",
   "metadata": {},
   "outputs": [
    {
     "data": {
      "text/html": [
       "<div>\n",
       "<style scoped>\n",
       "    .dataframe tbody tr th:only-of-type {\n",
       "        vertical-align: middle;\n",
       "    }\n",
       "\n",
       "    .dataframe tbody tr th {\n",
       "        vertical-align: top;\n",
       "    }\n",
       "\n",
       "    .dataframe thead th {\n",
       "        text-align: right;\n",
       "    }\n",
       "</style>\n",
       "<table border=\"1\" class=\"dataframe\">\n",
       "  <thead>\n",
       "    <tr style=\"text-align: right;\">\n",
       "      <th></th>\n",
       "      <th>Location</th>\n",
       "      <th>Year</th>\n",
       "      <th>Kilometers_Driven</th>\n",
       "      <th>Fuel_Type</th>\n",
       "      <th>Transmission</th>\n",
       "      <th>Owner_Type</th>\n",
       "      <th>Mileage</th>\n",
       "      <th>Engine</th>\n",
       "      <th>Power</th>\n",
       "      <th>Seats</th>\n",
       "      <th>Owner_Type_Encoded</th>\n",
       "    </tr>\n",
       "  </thead>\n",
       "  <tbody>\n",
       "    <tr>\n",
       "      <th>0</th>\n",
       "      <td>Kochi</td>\n",
       "      <td>2017</td>\n",
       "      <td>41290</td>\n",
       "      <td>Diesel</td>\n",
       "      <td>Manual</td>\n",
       "      <td>Second</td>\n",
       "      <td>19.230769</td>\n",
       "      <td>2179.0</td>\n",
       "      <td>140.00</td>\n",
       "      <td>7.0</td>\n",
       "      <td>1</td>\n",
       "    </tr>\n",
       "    <tr>\n",
       "      <th>1</th>\n",
       "      <td>Delhi</td>\n",
       "      <td>2013</td>\n",
       "      <td>65000</td>\n",
       "      <td>Diesel</td>\n",
       "      <td>Automatic</td>\n",
       "      <td>First</td>\n",
       "      <td>27.019231</td>\n",
       "      <td>1995.0</td>\n",
       "      <td>190.00</td>\n",
       "      <td>5.0</td>\n",
       "      <td>0</td>\n",
       "    </tr>\n",
       "    <tr>\n",
       "      <th>2</th>\n",
       "      <td>Bangalore</td>\n",
       "      <td>2016</td>\n",
       "      <td>16471</td>\n",
       "      <td>Petrol</td>\n",
       "      <td>Manual</td>\n",
       "      <td>Second</td>\n",
       "      <td>19.167785</td>\n",
       "      <td>1798.0</td>\n",
       "      <td>138.03</td>\n",
       "      <td>5.0</td>\n",
       "      <td>1</td>\n",
       "    </tr>\n",
       "    <tr>\n",
       "      <th>3</th>\n",
       "      <td>Pune</td>\n",
       "      <td>2015</td>\n",
       "      <td>54339</td>\n",
       "      <td>Diesel</td>\n",
       "      <td>Manual</td>\n",
       "      <td>Second</td>\n",
       "      <td>27.091346</td>\n",
       "      <td>1396.0</td>\n",
       "      <td>88.73</td>\n",
       "      <td>5.0</td>\n",
       "      <td>1</td>\n",
       "    </tr>\n",
       "    <tr>\n",
       "      <th>4</th>\n",
       "      <td>Hyderabad</td>\n",
       "      <td>2016</td>\n",
       "      <td>24025</td>\n",
       "      <td>Petrol</td>\n",
       "      <td>Manual</td>\n",
       "      <td>First</td>\n",
       "      <td>24.362416</td>\n",
       "      <td>1198.0</td>\n",
       "      <td>82.00</td>\n",
       "      <td>6.0</td>\n",
       "      <td>0</td>\n",
       "    </tr>\n",
       "  </tbody>\n",
       "</table>\n",
       "</div>"
      ],
      "text/plain": [
       "    Location  Year  Kilometers_Driven Fuel_Type Transmission Owner_Type  \\\n",
       "0      Kochi  2017              41290    Diesel       Manual     Second   \n",
       "1      Delhi  2013              65000    Diesel    Automatic      First   \n",
       "2  Bangalore  2016              16471    Petrol       Manual     Second   \n",
       "3       Pune  2015              54339    Diesel       Manual     Second   \n",
       "4  Hyderabad  2016              24025    Petrol       Manual      First   \n",
       "\n",
       "     Mileage  Engine   Power  Seats  Owner_Type_Encoded  \n",
       "0  19.230769  2179.0  140.00    7.0                   1  \n",
       "1  27.019231  1995.0  190.00    5.0                   0  \n",
       "2  19.167785  1798.0  138.03    5.0                   1  \n",
       "3  27.091346  1396.0   88.73    5.0                   1  \n",
       "4  24.362416  1198.0   82.00    6.0                   0  "
      ]
     },
     "execution_count": 27,
     "metadata": {},
     "output_type": "execute_result"
    }
   ],
   "source": [
    "label_dict = {'First': 0, 'Second': 1, 'Third': 2, 'Fourth & Above': 3}\n",
    "df['Owner_Type_Encoded'] = df['Owner_Type'].map(label_dict)\n",
    "\n",
    "df.head()"
   ]
  },
  {
   "cell_type": "code",
   "execution_count": 33,
   "id": "f4c66c0f",
   "metadata": {},
   "outputs": [],
   "source": [
    "test_df= pd.concat([df,Location,Fuel_Type,Transmission],axis=1)"
   ]
  },
  {
   "cell_type": "code",
   "execution_count": 34,
   "id": "53e9dafe",
   "metadata": {},
   "outputs": [],
   "source": [
    "test_df = test_df.drop([\"Location\",\"Fuel_Type\",\"Transmission\",\"Owner_Type\"],axis='columns')"
   ]
  },
  {
   "cell_type": "code",
   "execution_count": 35,
   "id": "bbc47070",
   "metadata": {},
   "outputs": [
    {
     "data": {
      "text/html": [
       "<div>\n",
       "<style scoped>\n",
       "    .dataframe tbody tr th:only-of-type {\n",
       "        vertical-align: middle;\n",
       "    }\n",
       "\n",
       "    .dataframe tbody tr th {\n",
       "        vertical-align: top;\n",
       "    }\n",
       "\n",
       "    .dataframe thead th {\n",
       "        text-align: right;\n",
       "    }\n",
       "</style>\n",
       "<table border=\"1\" class=\"dataframe\">\n",
       "  <thead>\n",
       "    <tr style=\"text-align: right;\">\n",
       "      <th></th>\n",
       "      <th>Year</th>\n",
       "      <th>Kilometers_Driven</th>\n",
       "      <th>Mileage</th>\n",
       "      <th>Engine</th>\n",
       "      <th>Power</th>\n",
       "      <th>Seats</th>\n",
       "      <th>Owner_Type_Encoded</th>\n",
       "      <th>Location_Ahmedabad</th>\n",
       "      <th>Location_Bangalore</th>\n",
       "      <th>Location_Chennai</th>\n",
       "      <th>...</th>\n",
       "      <th>Location_Jaipur</th>\n",
       "      <th>Location_Kochi</th>\n",
       "      <th>Location_Kolkata</th>\n",
       "      <th>Location_Mumbai</th>\n",
       "      <th>Location_Pune</th>\n",
       "      <th>Fuel_Type_CNG</th>\n",
       "      <th>Fuel_Type_Diesel</th>\n",
       "      <th>Fuel_Type_LPG</th>\n",
       "      <th>Fuel_Type_Petrol</th>\n",
       "      <th>Transmission_Manual</th>\n",
       "    </tr>\n",
       "  </thead>\n",
       "  <tbody>\n",
       "    <tr>\n",
       "      <th>0</th>\n",
       "      <td>2017</td>\n",
       "      <td>41290</td>\n",
       "      <td>19.230769</td>\n",
       "      <td>2179.0</td>\n",
       "      <td>140.00</td>\n",
       "      <td>7.0</td>\n",
       "      <td>1</td>\n",
       "      <td>0</td>\n",
       "      <td>0</td>\n",
       "      <td>0</td>\n",
       "      <td>...</td>\n",
       "      <td>0</td>\n",
       "      <td>1</td>\n",
       "      <td>0</td>\n",
       "      <td>0</td>\n",
       "      <td>0</td>\n",
       "      <td>0</td>\n",
       "      <td>1</td>\n",
       "      <td>0</td>\n",
       "      <td>0</td>\n",
       "      <td>1</td>\n",
       "    </tr>\n",
       "    <tr>\n",
       "      <th>1</th>\n",
       "      <td>2013</td>\n",
       "      <td>65000</td>\n",
       "      <td>27.019231</td>\n",
       "      <td>1995.0</td>\n",
       "      <td>190.00</td>\n",
       "      <td>5.0</td>\n",
       "      <td>0</td>\n",
       "      <td>0</td>\n",
       "      <td>0</td>\n",
       "      <td>0</td>\n",
       "      <td>...</td>\n",
       "      <td>0</td>\n",
       "      <td>0</td>\n",
       "      <td>0</td>\n",
       "      <td>0</td>\n",
       "      <td>0</td>\n",
       "      <td>0</td>\n",
       "      <td>1</td>\n",
       "      <td>0</td>\n",
       "      <td>0</td>\n",
       "      <td>0</td>\n",
       "    </tr>\n",
       "    <tr>\n",
       "      <th>2</th>\n",
       "      <td>2016</td>\n",
       "      <td>16471</td>\n",
       "      <td>19.167785</td>\n",
       "      <td>1798.0</td>\n",
       "      <td>138.03</td>\n",
       "      <td>5.0</td>\n",
       "      <td>1</td>\n",
       "      <td>0</td>\n",
       "      <td>1</td>\n",
       "      <td>0</td>\n",
       "      <td>...</td>\n",
       "      <td>0</td>\n",
       "      <td>0</td>\n",
       "      <td>0</td>\n",
       "      <td>0</td>\n",
       "      <td>0</td>\n",
       "      <td>0</td>\n",
       "      <td>0</td>\n",
       "      <td>0</td>\n",
       "      <td>1</td>\n",
       "      <td>1</td>\n",
       "    </tr>\n",
       "    <tr>\n",
       "      <th>3</th>\n",
       "      <td>2015</td>\n",
       "      <td>54339</td>\n",
       "      <td>27.091346</td>\n",
       "      <td>1396.0</td>\n",
       "      <td>88.73</td>\n",
       "      <td>5.0</td>\n",
       "      <td>1</td>\n",
       "      <td>0</td>\n",
       "      <td>0</td>\n",
       "      <td>0</td>\n",
       "      <td>...</td>\n",
       "      <td>0</td>\n",
       "      <td>0</td>\n",
       "      <td>0</td>\n",
       "      <td>0</td>\n",
       "      <td>1</td>\n",
       "      <td>0</td>\n",
       "      <td>1</td>\n",
       "      <td>0</td>\n",
       "      <td>0</td>\n",
       "      <td>1</td>\n",
       "    </tr>\n",
       "    <tr>\n",
       "      <th>4</th>\n",
       "      <td>2016</td>\n",
       "      <td>24025</td>\n",
       "      <td>24.362416</td>\n",
       "      <td>1198.0</td>\n",
       "      <td>82.00</td>\n",
       "      <td>6.0</td>\n",
       "      <td>0</td>\n",
       "      <td>0</td>\n",
       "      <td>0</td>\n",
       "      <td>0</td>\n",
       "      <td>...</td>\n",
       "      <td>0</td>\n",
       "      <td>0</td>\n",
       "      <td>0</td>\n",
       "      <td>0</td>\n",
       "      <td>0</td>\n",
       "      <td>0</td>\n",
       "      <td>0</td>\n",
       "      <td>0</td>\n",
       "      <td>1</td>\n",
       "      <td>1</td>\n",
       "    </tr>\n",
       "  </tbody>\n",
       "</table>\n",
       "<p>5 rows × 23 columns</p>\n",
       "</div>"
      ],
      "text/plain": [
       "   Year  Kilometers_Driven    Mileage  Engine   Power  Seats  \\\n",
       "0  2017              41290  19.230769  2179.0  140.00    7.0   \n",
       "1  2013              65000  27.019231  1995.0  190.00    5.0   \n",
       "2  2016              16471  19.167785  1798.0  138.03    5.0   \n",
       "3  2015              54339  27.091346  1396.0   88.73    5.0   \n",
       "4  2016              24025  24.362416  1198.0   82.00    6.0   \n",
       "\n",
       "   Owner_Type_Encoded  Location_Ahmedabad  Location_Bangalore  \\\n",
       "0                   1                   0                   0   \n",
       "1                   0                   0                   0   \n",
       "2                   1                   0                   1   \n",
       "3                   1                   0                   0   \n",
       "4                   0                   0                   0   \n",
       "\n",
       "   Location_Chennai  ...  Location_Jaipur  Location_Kochi  Location_Kolkata  \\\n",
       "0                 0  ...                0               1                 0   \n",
       "1                 0  ...                0               0                 0   \n",
       "2                 0  ...                0               0                 0   \n",
       "3                 0  ...                0               0                 0   \n",
       "4                 0  ...                0               0                 0   \n",
       "\n",
       "   Location_Mumbai  Location_Pune  Fuel_Type_CNG  Fuel_Type_Diesel  \\\n",
       "0                0              0              0                 1   \n",
       "1                0              0              0                 1   \n",
       "2                0              0              0                 0   \n",
       "3                0              1              0                 1   \n",
       "4                0              0              0                 0   \n",
       "\n",
       "   Fuel_Type_LPG  Fuel_Type_Petrol  Transmission_Manual  \n",
       "0              0                 0                    1  \n",
       "1              0                 0                    0  \n",
       "2              0                 1                    1  \n",
       "3              0                 0                    1  \n",
       "4              0                 1                    1  \n",
       "\n",
       "[5 rows x 23 columns]"
      ]
     },
     "execution_count": 35,
     "metadata": {},
     "output_type": "execute_result"
    }
   ],
   "source": [
    "test_df.head()"
   ]
  },
  {
   "cell_type": "code",
   "execution_count": 31,
   "id": "c98b5d63",
   "metadata": {},
   "outputs": [
    {
     "data": {
      "text/plain": [
       "Index(['Year', 'Kilometers_Driven', 'Mileage', 'Engine', 'Power', 'Seats',\n",
       "       'Owner_Type_Encoded', 'Location_Ahmedabad', 'Location_Bangalore',\n",
       "       'Location_Chennai', 'Location_Coimbatore', 'Location_Delhi',\n",
       "       'Location_Hyderabad', 'Location_Jaipur', 'Location_Kochi',\n",
       "       'Location_Kolkata', 'Location_Mumbai', 'Location_Pune', 'Fuel_Type_CNG',\n",
       "       'Fuel_Type_Diesel', 'Fuel_Type_LPG', 'Fuel_Type_Petrol',\n",
       "       'Transmission_Manual'],\n",
       "      dtype='object')"
      ]
     },
     "execution_count": 31,
     "metadata": {},
     "output_type": "execute_result"
    }
   ],
   "source": [
    "test_df.columns"
   ]
  },
  {
   "cell_type": "code",
   "execution_count": 36,
   "id": "460c3769",
   "metadata": {},
   "outputs": [],
   "source": [
    "test_df = np.array(test_df)"
   ]
  },
  {
   "cell_type": "code",
   "execution_count": 37,
   "id": "6513a7b8",
   "metadata": {},
   "outputs": [],
   "source": [
    "mean = [2.01344575e+03, 6.02636521e+04, 2.29749528e+01, 1.62325660e+03,\n",
    "       1.13124335e+02, 5.29178886e+00, 2.02346041e-01, 3.59237537e-02,\n",
    "       6.41495601e-02, 7.99120235e-02, 1.05938416e-01, 9.64076246e-02,\n",
    "       1.08137830e-01, 7.11143695e-02, 1.09604106e-01, 9.31085044e-02,\n",
    "       1.35630499e-01, 1.00073314e-01, 1.06304985e-02, 5.40322581e-01,\n",
    "       2.19941349e-03, 4.46847507e-01, 7.13709677e-01]\n",
    "\n",
    "std = [3.13655317e+00, 1.29997668e+05, 5.27023100e+00, 5.85343287e+02,\n",
    "       5.27055317e+01, 8.13588786e-01, 4.55620241e-01, 1.86100074e-01,\n",
    "       2.45019171e-01, 2.71156951e-01, 3.07758783e-01, 2.95149444e-01,\n",
    "       3.10554407e-01, 2.57015789e-01, 3.12395656e-01, 2.90584430e-01,\n",
    "       3.42395775e-01, 3.00097727e-01, 1.02554820e-01, 4.98371437e-01,\n",
    "       4.68463026e-02, 4.97166785e-01, 4.52026740e-01]\n",
    "\n",
    "var = [9.83796579e+00, 1.68993936e+10, 2.77753348e+01, 3.42626764e+05,\n",
    "       2.77787307e+03, 6.61926712e-01, 2.07589804e-01, 3.46332376e-02,\n",
    "       6.00343941e-02, 7.35260920e-02, 9.47154683e-02, 8.71131945e-02,\n",
    "       9.64440397e-02, 6.60571160e-02, 9.75910456e-02, 8.44393108e-02,\n",
    "       1.17234866e-01, 9.00586457e-02, 1.05174910e-02, 2.48374089e-01,\n",
    "       2.19457607e-03, 2.47174813e-01, 2.04328174e-01]  \n",
    "\n",
    "n_samples_seen=2728"
   ]
  },
  {
   "cell_type": "code",
   "execution_count": 40,
   "id": "d097f75b",
   "metadata": {},
   "outputs": [],
   "source": [
    "scaler = StandardScaler()\n",
    "scaler.mean_ = mean\n",
    "scaler.scale_ = std\n",
    "scaler.var_ = var\n",
    "scaler.n_samples_seen_=n_samples_seen"
   ]
  },
  {
   "cell_type": "code",
   "execution_count": 41,
   "id": "7236d81f",
   "metadata": {},
   "outputs": [],
   "source": [
    "inp = scaler.transform(test_df)"
   ]
  },
  {
   "cell_type": "code",
   "execution_count": 42,
   "id": "241393b1",
   "metadata": {},
   "outputs": [
    {
     "name": "stdout",
     "output_type": "stream",
     "text": [
      "Model Loaded\n"
     ]
    }
   ],
   "source": [
    "with open('ada_reg_xg1.pkl', 'rb') as f:\n",
    "    model = pickle.load(f)\n",
    "    print(\"Model Loaded\")"
   ]
  },
  {
   "cell_type": "code",
   "execution_count": 45,
   "id": "1a8d64b1",
   "metadata": {},
   "outputs": [],
   "source": [
    "prediction = model.predict(inp)"
   ]
  },
  {
   "cell_type": "code",
   "execution_count": 47,
   "id": "4f774280",
   "metadata": {},
   "outputs": [
    {
     "data": {
      "text/plain": [
       "array([12.274903 , 16.748812 , 10.2911825, ...,  6.033526 ,  2.2198777,\n",
       "        2.5210886], dtype=float32)"
      ]
     },
     "execution_count": 47,
     "metadata": {},
     "output_type": "execute_result"
    }
   ],
   "source": [
    "for p in prediction:\n",
    "    print()"
   ]
  },
  {
   "cell_type": "code",
   "execution_count": 59,
   "id": "70cf4b72",
   "metadata": {},
   "outputs": [],
   "source": [
    "df_pred = pd.DataFrame({'Predicted_value': prediction})"
   ]
  },
  {
   "cell_type": "code",
   "execution_count": 60,
   "id": "05beafba",
   "metadata": {},
   "outputs": [
    {
     "data": {
      "text/html": [
       "<div>\n",
       "<style scoped>\n",
       "    .dataframe tbody tr th:only-of-type {\n",
       "        vertical-align: middle;\n",
       "    }\n",
       "\n",
       "    .dataframe tbody tr th {\n",
       "        vertical-align: top;\n",
       "    }\n",
       "\n",
       "    .dataframe thead th {\n",
       "        text-align: right;\n",
       "    }\n",
       "</style>\n",
       "<table border=\"1\" class=\"dataframe\">\n",
       "  <thead>\n",
       "    <tr style=\"text-align: right;\">\n",
       "      <th></th>\n",
       "      <th>Predicted_value</th>\n",
       "    </tr>\n",
       "  </thead>\n",
       "  <tbody>\n",
       "    <tr>\n",
       "      <th>0</th>\n",
       "      <td>12.274903</td>\n",
       "    </tr>\n",
       "    <tr>\n",
       "      <th>1</th>\n",
       "      <td>16.748812</td>\n",
       "    </tr>\n",
       "    <tr>\n",
       "      <th>2</th>\n",
       "      <td>10.291183</td>\n",
       "    </tr>\n",
       "    <tr>\n",
       "      <th>3</th>\n",
       "      <td>5.770888</td>\n",
       "    </tr>\n",
       "    <tr>\n",
       "      <th>4</th>\n",
       "      <td>5.616024</td>\n",
       "    </tr>\n",
       "  </tbody>\n",
       "</table>\n",
       "</div>"
      ],
      "text/plain": [
       "   Predicted_value\n",
       "0        12.274903\n",
       "1        16.748812\n",
       "2        10.291183\n",
       "3         5.770888\n",
       "4         5.616024"
      ]
     },
     "execution_count": 60,
     "metadata": {},
     "output_type": "execute_result"
    }
   ],
   "source": [
    "df_pred.head()"
   ]
  },
  {
   "cell_type": "code",
   "execution_count": 62,
   "id": "ac5199bb",
   "metadata": {},
   "outputs": [
    {
     "data": {
      "text/plain": [
       "(2462, 1)"
      ]
     },
     "execution_count": 62,
     "metadata": {},
     "output_type": "execute_result"
    }
   ],
   "source": [
    "df_pred.shape"
   ]
  },
  {
   "cell_type": "code",
   "execution_count": 63,
   "id": "f0c7a54d",
   "metadata": {},
   "outputs": [],
   "source": [
    "df_pred.to_csv('test_data_predictions.csv', index=False)"
   ]
  }
 ],
 "metadata": {
  "kernelspec": {
   "display_name": "Python 3 (ipykernel)",
   "language": "python",
   "name": "python3"
  },
  "language_info": {
   "codemirror_mode": {
    "name": "ipython",
    "version": 3
   },
   "file_extension": ".py",
   "mimetype": "text/x-python",
   "name": "python",
   "nbconvert_exporter": "python",
   "pygments_lexer": "ipython3",
   "version": "3.10.5"
  }
 },
 "nbformat": 4,
 "nbformat_minor": 5
}
